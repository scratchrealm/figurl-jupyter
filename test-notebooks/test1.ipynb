{
 "cells": [
  {
   "cell_type": "code",
   "execution_count": null,
   "id": "01d5a8b2-d1d7-49e0-aeae-4d4d10c06461",
   "metadata": {},
   "outputs": [],
   "source": [
    "import figurl_jupyter as fj\n",
    "import kachery_cloud as kcl"
   ]
  },
  {
   "cell_type": "code",
   "execution_count": null,
   "id": "bc093c58-123b-4996-90c2-0eee980174b5",
   "metadata": {},
   "outputs": [],
   "source": [
    "f = fj.FigurlFigure()\n",
    "def on_message(widget, content, buffers):\n",
    "    f.send({'type': 'reply', 'message': content})\n",
    "    type0 = content['type']\n",
    "    if type0 == 'loadFileDataRequest':\n",
    "        uri = content['uri']\n",
    "        x = kcl.load_text(uri)\n",
    "        if x is not None:\n",
    "            f.send({'type': 'loadFileDataResponse', 'uri': uri, 'fileData': x})\n",
    "f.on_msg(on_message)\n",
    "display(f)"
   ]
  },
  {
   "cell_type": "code",
   "execution_count": null,
   "id": "97d6b541-5775-4240-940b-9878b83517a8",
   "metadata": {},
   "outputs": [],
   "source": []
  },
  {
   "cell_type": "code",
   "execution_count": null,
   "id": "9492d97a-50a4-4810-a3f2-c4bf845683a8",
   "metadata": {},
   "outputs": [],
   "source": [
    "f.send({'type': 'test', 'content': '123'})"
   ]
  },
  {
   "cell_type": "code",
   "execution_count": null,
   "id": "254bd53c-f8fa-4a1a-ae18-0567731cee14",
   "metadata": {},
   "outputs": [],
   "source": []
  }
 ],
 "metadata": {
  "kernelspec": {
   "display_name": "Python 3 (ipykernel)",
   "language": "python",
   "name": "python3"
  },
  "language_info": {
   "codemirror_mode": {
    "name": "ipython",
    "version": 3
   },
   "file_extension": ".py",
   "mimetype": "text/x-python",
   "name": "python",
   "nbconvert_exporter": "python",
   "pygments_lexer": "ipython3",
   "version": "3.8.13"
  }
 },
 "nbformat": 4,
 "nbformat_minor": 5
}
