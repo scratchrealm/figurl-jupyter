{
 "cells": [
  {
   "cell_type": "code",
   "execution_count": 1,
   "id": "01d5a8b2-d1d7-49e0-aeae-4d4d10c06461",
   "metadata": {},
   "outputs": [],
   "source": [
    "import figurl_jupyter as fj"
   ]
  },
  {
   "cell_type": "code",
   "execution_count": 2,
   "id": "bc093c58-123b-4996-90c2-0eee980174b5",
   "metadata": {},
   "outputs": [
    {
     "data": {
      "application/vnd.jupyter.widget-view+json": {
       "model_id": "5bb1e5119dfb4885a3c9125908916202",
       "version_major": 2,
       "version_minor": 0
      },
      "text/plain": [
       "FigurlFigure()"
      ]
     },
     "metadata": {},
     "output_type": "display_data"
    }
   ],
   "source": [
    "fj.FigurlFigure()"
   ]
  },
  {
   "cell_type": "code",
   "execution_count": null,
   "id": "c0955460-13ef-4167-a4ab-c486ffa31bb8",
   "metadata": {},
   "outputs": [],
   "source": []
  }
 ],
 "metadata": {
  "kernelspec": {
   "display_name": "Python 3 (ipykernel)",
   "language": "python",
   "name": "python3"
  },
  "language_info": {
   "codemirror_mode": {
    "name": "ipython",
    "version": 3
   },
   "file_extension": ".py",
   "mimetype": "text/x-python",
   "name": "python",
   "nbconvert_exporter": "python",
   "pygments_lexer": "ipython3",
   "version": "3.8.13"
  }
 },
 "nbformat": 4,
 "nbformat_minor": 5
}
